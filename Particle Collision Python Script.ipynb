{
 "cells": [
  {
   "cell_type": "markdown",
   "id": "45eb2442",
   "metadata": {},
   "source": [
    "# MA3K7 Particle Collision Problem \n",
    "\n",
    "**Student Number: 2110308**"
   ]
  },
  {
   "cell_type": "code",
   "execution_count": 19,
   "id": "b7239862",
   "metadata": {},
   "outputs": [],
   "source": [
    "import numpy as np\n",
    "import matplotlib.pyplot as plt\n",
    "import random\n",
    "from scipy.stats import binom\n",
    "from sympy import symbols, solve\n",
    "import math\n",
    "from matplotlib.animation import FuncAnimation\n",
    "import matplotlib.animation as animation\n",
    "from numba import jit\n",
    "import time"
   ]
  },
  {
   "cell_type": "markdown",
   "id": "b55397ab",
   "metadata": {},
   "source": [
    "The code below simulates a closed system with particle collisions"
   ]
  },
  {
   "cell_type": "code",
   "execution_count": 4,
   "id": "995f8629",
   "metadata": {},
   "outputs": [],
   "source": [
    "class Particle:\n",
    "    def __init__(self, species):\n",
    "        self.species = species\n",
    "\n",
    "def collide(particles):\n",
    "    # Select two random particles\n",
    "    particle1 = random.choice(particles)\n",
    "    particle2 = random.choice(particles)\n",
    "    \n",
    "    # If the two particles are of different species, they transform into the third species\n",
    "    if particle1.species != particle2.species:\n",
    "        species_set = {'A', 'B', 'C'}\n",
    "        new_species = (species_set - {particle1.species, particle2.species}).pop()\n",
    "        particle1.species = new_species\n",
    "        particle2.species = new_species\n",
    "\n",
    "def count_species(particles):\n",
    "    species_count = {'A': 0, 'B': 0, 'C': 0}\n",
    "    for particle in particles:\n",
    "        species_count[particle.species] += 1\n",
    "    return species_count\n",
    "\n",
    "def simulate(num_A, num_B, num_C, num_steps):\n",
    "    particles = [Particle('A') for _ in range(num_A)] + \\\n",
    "                [Particle('B') for _ in range(num_B)] + \\\n",
    "                [Particle('C') for _ in range(num_C)]\n",
    "    \n",
    "    for step in range(num_steps):\n",
    "        collide(particles)\n",
    "        \n",
    "    species_counts = count_species(particles)\n",
    "    print(\"Final distribution of species after {} steps:\".format(num_steps))\n",
    "    for species, count in species_counts.items():\n",
    "        print(\"Species {}: {}\".format(species, count))"
   ]
  },
  {
   "cell_type": "code",
   "execution_count": 5,
   "id": "07db0b15",
   "metadata": {
    "collapsed": true
   },
   "outputs": [
    {
     "name": "stdout",
     "output_type": "stream",
     "text": [
      "Final distribution of species after 1000 steps:\n",
      "Species A: 0\n",
      "Species B: 0\n",
      "Species C: 3\n"
     ]
    }
   ],
   "source": [
    "#Number of each particle species is 1\n",
    "simulate(1, 1, 1, 1000)"
   ]
  },
  {
   "cell_type": "code",
   "execution_count": 6,
   "id": "7308ab74",
   "metadata": {
    "collapsed": true
   },
   "outputs": [
    {
     "name": "stdout",
     "output_type": "stream",
     "text": [
      "Final distribution of species after 1000 steps:\n",
      "Species A: 0\n",
      "Species B: 0\n",
      "Species C: 6\n"
     ]
    }
   ],
   "source": [
    "#Number of each particle species is 2\n",
    "simulate(2, 2, 2, 1000)"
   ]
  },
  {
   "cell_type": "code",
   "execution_count": 7,
   "id": "d83378bb",
   "metadata": {
    "collapsed": true
   },
   "outputs": [
    {
     "name": "stdout",
     "output_type": "stream",
     "text": [
      "Final distribution of species after 1000 steps:\n",
      "Species A: 0\n",
      "Species B: 0\n",
      "Species C: 9\n"
     ]
    }
   ],
   "source": [
    "#Number of each particle species is 3\n",
    "simulate(3, 3, 3, 1000)"
   ]
  },
  {
   "cell_type": "code",
   "execution_count": 8,
   "id": "6a2e5cf4",
   "metadata": {
    "collapsed": true
   },
   "outputs": [
    {
     "name": "stdout",
     "output_type": "stream",
     "text": [
      "Final distribution of species after 1000 steps:\n",
      "Species A: 2\n",
      "Species B: 5\n",
      "Species C: 5\n"
     ]
    }
   ],
   "source": [
    "#Number of each particle species is 4\n",
    "simulate(4, 4, 4, 1000)"
   ]
  },
  {
   "cell_type": "code",
   "execution_count": 9,
   "id": "6698c1d7",
   "metadata": {
    "collapsed": true
   },
   "outputs": [
    {
     "name": "stdout",
     "output_type": "stream",
     "text": [
      "Final distribution of species after 1000 steps:\n",
      "Species A: 9\n",
      "Species B: 3\n",
      "Species C: 3\n"
     ]
    }
   ],
   "source": [
    "#Number of each particle species is 5\n",
    "simulate(5, 5, 5, 1000)"
   ]
  },
  {
   "cell_type": "code",
   "execution_count": 10,
   "id": "0af8c8a2",
   "metadata": {
    "collapsed": true
   },
   "outputs": [
    {
     "name": "stdout",
     "output_type": "stream",
     "text": [
      "Final distribution of species after 1000 steps:\n",
      "Species A: 4\n",
      "Species B: 7\n",
      "Species C: 7\n"
     ]
    }
   ],
   "source": [
    "#Number of each particle species is 6\n",
    "simulate(6, 6, 6, 1000)"
   ]
  },
  {
   "cell_type": "code",
   "execution_count": 11,
   "id": "3d2596f5",
   "metadata": {
    "collapsed": true
   },
   "outputs": [
    {
     "name": "stdout",
     "output_type": "stream",
     "text": [
      "Final distribution of species after 1000 steps:\n",
      "Species A: 2\n",
      "Species B: 11\n",
      "Species C: 8\n"
     ]
    }
   ],
   "source": [
    "#Number of each particle species is 7\n",
    "simulate(7, 7, 7, 1000)"
   ]
  },
  {
   "cell_type": "code",
   "execution_count": 12,
   "id": "c84866a5",
   "metadata": {
    "collapsed": true
   },
   "outputs": [
    {
     "name": "stdout",
     "output_type": "stream",
     "text": [
      "Final distribution of species after 1000 steps:\n",
      "Species A: 10\n",
      "Species B: 7\n",
      "Species C: 7\n"
     ]
    }
   ],
   "source": [
    "#Number of each particle species is 8\n",
    "simulate(8, 8, 8, 1000)"
   ]
  },
  {
   "cell_type": "code",
   "execution_count": 13,
   "id": "5079596b",
   "metadata": {
    "collapsed": true
   },
   "outputs": [
    {
     "name": "stdout",
     "output_type": "stream",
     "text": [
      "Final distribution of species after 1000 steps:\n",
      "Species A: 19\n",
      "Species B: 4\n",
      "Species C: 4\n"
     ]
    }
   ],
   "source": [
    "#Number of each particle species is 9\n",
    "simulate(9, 9, 9, 1000)"
   ]
  },
  {
   "cell_type": "code",
   "execution_count": 14,
   "id": "ad473f8d",
   "metadata": {
    "collapsed": true
   },
   "outputs": [
    {
     "name": "stdout",
     "output_type": "stream",
     "text": [
      "Final distribution of species after 1000 steps:\n",
      "Species A: 11\n",
      "Species B: 5\n",
      "Species C: 14\n"
     ]
    }
   ],
   "source": [
    "#Number of each particle species is 10\n",
    "simulate(10, 10, 10, 1000)"
   ]
  },
  {
   "cell_type": "markdown",
   "id": "28df787d",
   "metadata": {},
   "source": [
    "The code below runs $10000$ simulations with $1000$ particles and plots results after exactly $10000$ collisions have occurred."
   ]
  },
  {
   "cell_type": "code",
   "execution_count": 15,
   "id": "012ff848",
   "metadata": {
    "collapsed": true
   },
   "outputs": [
    {
     "name": "stdout",
     "output_type": "stream",
     "text": [
      "Frequency of Dominant Species after 10000 Simulations:\n",
      "{'A': 0, 'B': 0, 'C': 0, 'None': 10000}\n"
     ]
    },
    {
     "data": {
      "image/png": "[encoded data removed]",
      "text/plain": [
       "<Figure size 640x480 with 1 Axes>"
      ]
     },
     "metadata": {},
     "output_type": "display_data"
    }
   ],
   "source": [
    "class Particle:\n",
    "    def __init__(self, species):\n",
    "        self.species = species\n",
    "\n",
    "def collide(particles):\n",
    "    # Select two random particles\n",
    "    particle1 = random.choice(particles)\n",
    "    particle2 = random.choice(particles)\n",
    "    \n",
    "    # If the two particles are of different species, they transform into the third species\n",
    "    if particle1.species != particle2.species:\n",
    "        species_set = {'A', 'B', 'C'}\n",
    "        new_species = (species_set - {particle1.species, particle2.species}).pop()\n",
    "        particle1.species = new_species\n",
    "        particle2.species = new_species\n",
    "\n",
    "def count_species(particles):\n",
    "    species_count = {'A': 0, 'B': 0, 'C': 0}\n",
    "    for particle in particles:\n",
    "        species_count[particle.species] += 1\n",
    "    return species_count\n",
    "\n",
    "def simulate(num_A, num_B, num_C, num_steps):\n",
    "    particles = [Particle('A') for _ in range(num_A)] + \\\n",
    "                [Particle('B') for _ in range(num_B)] + \\\n",
    "                [Particle('C') for _ in range(num_C)]\n",
    "    \n",
    "    for step in range(num_steps):\n",
    "        collide(particles)\n",
    "        \n",
    "    species_counts = count_species(particles)\n",
    "    return species_counts\n",
    "\n",
    "def run_simulation(num_simulations, num_particles, num_steps):\n",
    "    domination_counts = {'A': 0, 'B': 0, 'C': 0, 'None': 0}\n",
    "    \n",
    "    for _ in range(num_simulations):\n",
    "        species_counts = simulate(num_particles, num_particles, num_particles, num_steps)\n",
    "        max_count_species = max(species_counts, key=species_counts.get)\n",
    "        \n",
    "        if species_counts[max_count_species] == num_particles * 3:\n",
    "            domination_counts[max_count_species] += 1\n",
    "        else:\n",
    "            domination_counts['None'] += 1\n",
    "    \n",
    "    return domination_counts\n",
    "\n",
    "def plot_results(domination_counts):\n",
    "    labels = list(domination_counts.keys())\n",
    "    counts = list(domination_counts.values())\n",
    "    \n",
    "    plt.bar(labels, counts, color=['blue', 'green', 'red', 'gray'])\n",
    "    plt.xlabel('Dominant Species')\n",
    "    plt.ylabel('Frequency')\n",
    "    plt.title('Frequency of Dominant Species after 10,000 Simulations')\n",
    "    plt.show()\n",
    "\n",
    "# Run simulation\n",
    "num_simulations = 10000\n",
    "num_particles = 1000  \n",
    "num_steps = 10000\n",
    "\n",
    "domination_counts = run_simulation(num_simulations, num_particles, num_steps)\n",
    "print(\"Frequency of Dominant Species after {} Simulations:\".format(num_simulations))\n",
    "print(domination_counts)\n",
    "\n",
    "# Plot results\n",
    "plot_results(domination_counts)"
   ]
  },
  {
   "cell_type": "markdown",
   "id": "bbd027e4",
   "metadata": {},
   "source": [
    "The code below does the same thing as the code above but reduces the number of particles to $100$."
   ]
  },
  {
   "cell_type": "code",
   "execution_count": 16,
   "id": "9ee06791",
   "metadata": {
    "collapsed": true
   },
   "outputs": [
    {
     "name": "stdout",
     "output_type": "stream",
     "text": [
      "Frequency of Dominant Species after 10000 Simulations:\n",
      "{'A': 0, 'B': 0, 'C': 0, 'None': 10000}\n"
     ]
    },
    {
     "data": {
      "image/png": "[encoded data removed]",
      "text/plain": [
       "<Figure size 640x480 with 1 Axes>"
      ]
     },
     "metadata": {},
     "output_type": "display_data"
    }
   ],
   "source": [
    "class Particle:\n",
    "    def __init__(self, species):\n",
    "        self.species = species\n",
    "\n",
    "def collide(particles):\n",
    "    # Select two random particles\n",
    "    particle1 = random.choice(particles)\n",
    "    particle2 = random.choice(particles)\n",
    "    \n",
    "    # If the two particles are of different species, they transform into the third species\n",
    "    if particle1.species != particle2.species:\n",
    "        species_set = {'A', 'B', 'C'}\n",
    "        new_species = (species_set - {particle1.species, particle2.species}).pop()\n",
    "        particle1.species = new_species\n",
    "        particle2.species = new_species\n",
    "\n",
    "def count_species(particles):\n",
    "    species_count = {'A': 0, 'B': 0, 'C': 0}\n",
    "    for particle in particles:\n",
    "        species_count[particle.species] += 1\n",
    "    return species_count\n",
    "\n",
    "def simulate(num_A, num_B, num_C, num_steps):\n",
    "    particles = [Particle('A') for _ in range(num_A)] + \\\n",
    "                [Particle('B') for _ in range(num_B)] + \\\n",
    "                [Particle('C') for _ in range(num_C)]\n",
    "    \n",
    "    for step in range(num_steps):\n",
    "        collide(particles)\n",
    "        \n",
    "    species_counts = count_species(particles)\n",
    "    return species_counts\n",
    "\n",
    "def run_simulation(num_simulations, num_particles, num_steps):\n",
    "    domination_counts = {'A': 0, 'B': 0, 'C': 0, 'None': 0}\n",
    "    \n",
    "    for _ in range(num_simulations):\n",
    "        species_counts = simulate(num_particles, num_particles, num_particles, num_steps)\n",
    "        max_count_species = max(species_counts, key=species_counts.get)\n",
    "        \n",
    "        if species_counts[max_count_species] == num_particles * 3:\n",
    "            domination_counts[max_count_species] += 1\n",
    "        else:\n",
    "            domination_counts['None'] += 1\n",
    "    \n",
    "    return domination_counts\n",
    "\n",
    "def plot_results(domination_counts):\n",
    "    labels = list(domination_counts.keys())\n",
    "    counts = list(domination_counts.values())\n",
    "    \n",
    "    plt.bar(labels, counts, color=['blue', 'green', 'red', 'gray'])\n",
    "    plt.xlabel('Dominant Species')\n",
    "    plt.ylabel('Frequency')\n",
    "    plt.title('Frequency of Dominant Species after 10,000 Simulations')\n",
    "    plt.show()\n",
    "\n",
    "# Run simulation\n",
    "num_simulations = 10000\n",
    "num_particles = 100  \n",
    "num_steps = 10000\n",
    "\n",
    "domination_counts = run_simulation(num_simulations, num_particles, num_steps)\n",
    "print(\"Frequency of Dominant Species after {} Simulations:\".format(num_simulations))\n",
    "print(domination_counts)\n",
    "\n",
    "# Plot results\n",
    "plot_results(domination_counts)"
   ]
  },
  {
   "cell_type": "markdown",
   "id": "b5952779",
   "metadata": {},
   "source": [
    "The code below changes the initial condition to make it 'unfair' and plots the results of $10000$ simulations with $1000$ collisions each."
   ]
  },
  {
   "cell_type": "code",
   "execution_count": 17,
   "id": "c0894d68",
   "metadata": {
    "collapsed": true
   },
   "outputs": [
    {
     "name": "stdout",
     "output_type": "stream",
     "text": [
      "Frequency of Dominant Species after 10000 Simulations:\n",
      "{'A': 0, 'B': 0, 'C': 0, 'None': 10000}\n"
     ]
    },
    {
     "data": {
      "image/png": "[encoded data removed]",
      "text/plain": [
       "<Figure size 640x480 with 1 Axes>"
      ]
     },
     "metadata": {},
     "output_type": "display_data"
    }
   ],
   "source": [
    "import random\n",
    "import matplotlib.pyplot as plt\n",
    "\n",
    "class Particle:\n",
    "    def __init__(self, species):\n",
    "        self.species = species\n",
    "\n",
    "def collide(particles):\n",
    "    # Select two random particles\n",
    "    particle1 = random.choice(particles)\n",
    "    particle2 = random.choice(particles)\n",
    "    \n",
    "    # If the two particles are of different species, they transform into the third species\n",
    "    if particle1.species != particle2.species:\n",
    "        species_set = {'A', 'B', 'C'}\n",
    "        new_species = (species_set - {particle1.species, particle2.species}).pop()\n",
    "        particle1.species = new_species\n",
    "        particle2.species = new_species\n",
    "\n",
    "def count_species(particles):\n",
    "    species_count = {'A': 0, 'B': 0, 'C': 0}\n",
    "    for particle in particles:\n",
    "        species_count[particle.species] += 1\n",
    "    return species_count\n",
    "\n",
    "def simulate(num_A, num_B, num_C, num_steps):\n",
    "    particles = [Particle('A') for _ in range(num_A)] + \\\n",
    "                [Particle('B') for _ in range(num_B)] + \\\n",
    "                [Particle('C') for _ in range(num_C)]\n",
    "    \n",
    "    for step in range(num_steps):\n",
    "        collide(particles)\n",
    "        \n",
    "    species_counts = count_species(particles)\n",
    "    return species_counts\n",
    "\n",
    "def run_simulation(num_simulations, num_A, num_B, num_C, num_steps):\n",
    "    domination_counts = {'A': 0, 'B': 0, 'C': 0, 'None': 0}\n",
    "    \n",
    "    for _ in range(num_simulations):\n",
    "        species_counts = simulate(num_A, num_B, num_C, num_steps)\n",
    "        max_count_species = max(species_counts, key=species_counts.get)\n",
    "        \n",
    "        if species_counts[max_count_species] == num_A + num_B + num_C:\n",
    "            domination_counts[max_count_species] += 1\n",
    "        else:\n",
    "            domination_counts['None'] += 1\n",
    "    \n",
    "    return domination_counts\n",
    "\n",
    "def plot_results(domination_counts):\n",
    "    labels = list(domination_counts.keys())\n",
    "    counts = list(domination_counts.values())\n",
    "    \n",
    "    plt.bar(labels, counts, color=['blue', 'green', 'red', 'gray'])\n",
    "    plt.xlabel('Dominant Species')\n",
    "    plt.ylabel('Frequency')\n",
    "    plt.title('Frequency of Dominant Species after 10,000 Simulations')\n",
    "    plt.show()\n",
    "\n",
    "# Run simulation:\n",
    "num_simulations = 10000\n",
    "num_A = 20\n",
    "num_B = 40\n",
    "num_C = 40\n",
    "num_steps = 1000\n",
    "\n",
    "domination_counts = run_simulation(num_simulations, num_A, num_B, num_C, num_steps)\n",
    "print(\"Frequency of Dominant Species after {} Simulations:\".format(num_simulations))\n",
    "print(domination_counts)\n",
    "\n",
    "# Plot results\n",
    "plot_results(domination_counts)\n"
   ]
  },
  {
   "cell_type": "markdown",
   "id": "4765b22f",
   "metadata": {},
   "source": [
    "The code below simulates unfair conditions and calculates the number of collisions between a mass ratio of 1:100"
   ]
  },
  {
   "cell_type": "code",
   "execution_count": 28,
   "id": "e3f13b2d",
   "metadata": {},
   "outputs": [
    {
     "name": "stdout",
     "output_type": "stream",
     "text": [
      "Number of collisions: 31\n"
     ]
    }
   ],
   "source": [
    "m1, m2 = 1, 100\n",
    "m12 = m1 + m2\n",
    "x1, vx1 = 1, 0\n",
    "x2, vx2 = 1.15, -1\n",
    "\n",
    "col = 0\n",
    "inf = float('+inf')\n",
    "\n",
    "while True:\n",
    "    t0 = x1 / -vx1 if vx1 < 0 else inf\n",
    "\n",
    "    dv = vx2 - vx1\n",
    "    t1 = (x2 - x1) / -dv if dv < 0 else inf\n",
    "\n",
    "    dt = min(t0, t1)\n",
    "\n",
    "    if dt == inf:\n",
    "        break\n",
    "\n",
    "    x1 += dt * vx1\n",
    "    x2 += dt * vx2\n",
    "    col += 1\n",
    "\n",
    "    if dt == t0:\n",
    "        x1 = 0\n",
    "        vx1 = -vx1\n",
    "    else:\n",
    "        x2 = x1\n",
    "        p = m1 * vx1 + m2 * vx2\n",
    "        vx1 = (p + m2 * dv) / m12\n",
    "        vx2 = (p - m1 * dv) / m12\n",
    "\n",
    "print(\"Number of collisions: %d\" % (col))"
   ]
  },
  {
   "cell_type": "markdown",
   "id": "0c4f7df8",
   "metadata": {},
   "source": [
    "This one prints it out for a mass ratio of 1:1000"
   ]
  },
  {
   "cell_type": "code",
   "execution_count": 29,
   "id": "b925ea73",
   "metadata": {},
   "outputs": [
    {
     "name": "stdout",
     "output_type": "stream",
     "text": [
      "Number of collisions: 314\n"
     ]
    }
   ],
   "source": [
    "m1, m2 = 1, 100**2\n",
    "m12 = m1 + m2\n",
    "x1, vx1 = 1, 0\n",
    "x2, vx2 = 1.15, -1\n",
    "\n",
    "col = 0\n",
    "inf = float('+inf')\n",
    "\n",
    "while True:\n",
    "    t0 = x1 / -vx1 if vx1 < 0 else inf\n",
    "\n",
    "    dv = vx2 - vx1\n",
    "    t1 = (x2 - x1) / -dv if dv < 0 else inf\n",
    "\n",
    "    dt = min(t0, t1)\n",
    "\n",
    "    if dt == inf:\n",
    "        break\n",
    "\n",
    "    x1 += dt * vx1\n",
    "    x2 += dt * vx2\n",
    "    col += 1\n",
    "\n",
    "    if dt == t0:\n",
    "        x1 = 0\n",
    "        vx1 = -vx1\n",
    "    else:\n",
    "        x2 = x1\n",
    "        p = m1 * vx1 + m2 * vx2\n",
    "        vx1 = (p + m2 * dv) / m12\n",
    "        vx2 = (p - m1 * dv) / m12\n",
    "\n",
    "print(\"Number of collisions: %d\" % (col))"
   ]
  },
  {
   "cell_type": "markdown",
   "id": "2b4b355e",
   "metadata": {},
   "source": [
    "This one prints it out for a mass ratio of 1:10000"
   ]
  },
  {
   "cell_type": "code",
   "execution_count": 30,
   "id": "3d212a59",
   "metadata": {},
   "outputs": [
    {
     "name": "stdout",
     "output_type": "stream",
     "text": [
      "Number of collisions: 3141\n",
      "Estimated value of pi: 3.141000\n"
     ]
    }
   ],
   "source": [
    "m1, m2 = 1, 100**3\n",
    "m12 = m1 + m2\n",
    "x1, vx1 = 1, 0\n",
    "x2, vx2 = 1.15, -1\n",
    "\n",
    "col = 0\n",
    "inf = float('+inf')\n",
    "\n",
    "while True:\n",
    "    t0 = x1 / -vx1 if vx1 < 0 else inf\n",
    "\n",
    "    dv = vx2 - vx1\n",
    "    t1 = (x2 - x1) / -dv if dv < 0 else inf\n",
    "\n",
    "    dt = min(t0, t1)\n",
    "\n",
    "    if dt == inf:\n",
    "        break\n",
    "\n",
    "    x1 += dt * vx1\n",
    "    x2 += dt * vx2\n",
    "    col += 1\n",
    "\n",
    "    if dt == t0:\n",
    "        x1 = 0\n",
    "        vx1 = -vx1\n",
    "    else:\n",
    "        x2 = x1\n",
    "        p = m1 * vx1 + m2 * vx2\n",
    "        vx1 = (p + m2 * dv) / m12\n",
    "        vx2 = (p - m1 * dv) / m12\n",
    "\n",
    "print(\"Number of collisions: %d\" % (col))\n",
    "print(\"Estimated value of pi: %f\" % (col / (m2 ** 0.5)))"
   ]
  },
  {
   "cell_type": "code",
   "execution_count": 33,
   "id": "550a1722",
   "metadata": {},
   "outputs": [
    {
     "name": "stdout",
     "output_type": "stream",
     "text": [
      "Number of collisions: 31415\n"
     ]
    }
   ],
   "source": [
    "m1, m2 = 1, 100**4\n",
    "m12 = m1 + m2\n",
    "x1, vx1 = 1, 0\n",
    "x2, vx2 = 1.15, -1\n",
    "\n",
    "col = 0\n",
    "inf = float('+inf')\n",
    "\n",
    "while True:\n",
    "    t0 = x1 / -vx1 if vx1 < 0 else inf\n",
    "\n",
    "    dv = vx2 - vx1\n",
    "    t1 = (x2 - x1) / -dv if dv < 0 else inf\n",
    "\n",
    "    dt = min(t0, t1)\n",
    "\n",
    "    if dt == inf:\n",
    "        break\n",
    "\n",
    "    x1 += dt * vx1\n",
    "    x2 += dt * vx2\n",
    "    col += 1\n",
    "\n",
    "    if dt == t0:\n",
    "        x1 = 0\n",
    "        vx1 = -vx1\n",
    "    else:\n",
    "        x2 = x1\n",
    "        p = m1 * vx1 + m2 * vx2\n",
    "        vx1 = (p + m2 * dv) / m12\n",
    "        vx2 = (p - m1 * dv) / m12\n",
    "\n",
    "print(\"Number of collisions: %d\" % (col))"
   ]
  },
  {
   "cell_type": "code",
   "execution_count": 39,
   "id": "8db30ff4",
   "metadata": {},
   "outputs": [
    {
     "name": "stdout",
     "output_type": "stream",
     "text": [
      "Number of collisions: 314159\n"
     ]
    }
   ],
   "source": [
    "m1, m2 = 1, 100**5\n",
    "m12 = m1 + m2\n",
    "x1, vx1 = 1, 0\n",
    "x2, vx2 = 1.15, -1\n",
    "\n",
    "col = 0\n",
    "inf = float('+inf')\n",
    "\n",
    "while True:\n",
    "    t0 = x1 / -vx1 if vx1 < 0 else inf\n",
    "\n",
    "    dv = vx2 - vx1\n",
    "    t1 = (x2 - x1) / -dv if dv < 0 else inf\n",
    "\n",
    "    dt = min(t0, t1)\n",
    "\n",
    "    if dt == inf:\n",
    "        break\n",
    "\n",
    "    x1 += dt * vx1\n",
    "    x2 += dt * vx2\n",
    "    col += 1\n",
    "\n",
    "    if dt == t0:\n",
    "        x1 = 0\n",
    "        vx1 = -vx1\n",
    "    else:\n",
    "        x2 = x1\n",
    "        p = m1 * vx1 + m2 * vx2\n",
    "        vx1 = (p + m2 * dv) / m12\n",
    "        vx2 = (p - m1 * dv) / m12\n",
    "\n",
    "print(\"Number of collisions: %d\" % (col))"
   ]
  },
  {
   "cell_type": "code",
   "execution_count": 38,
   "id": "2d4ad602",
   "metadata": {},
   "outputs": [
    {
     "data": {
      "image/png": "[encoded data removed]",
      "text/plain": [
       "<Figure size 640x480 with 1 Axes>"
      ]
     },
     "metadata": {},
     "output_type": "display_data"
    }
   ],
   "source": [
    "# Initialize lists to store mass ratios and collision counts\n",
    "mass_ratios = []\n",
    "collision_counts = []\n",
    "\n",
    "# Iterate through mass ratios\n",
    "for d in range(7):  # Range from 0 to 20\n",
    "    # Set mass ratio m2\n",
    "    m2 = 100 ** d\n",
    "\n",
    "    # Initialize variables\n",
    "    m1 = 1\n",
    "    m12 = m1 + m2\n",
    "    x1, vx1 = 1, 0\n",
    "    x2, vx2 = 1.15, -1\n",
    "    col = 0\n",
    "    inf = float('+inf')\n",
    "\n",
    "    # Simulate collisions\n",
    "    while True:\n",
    "        t0 = x1 / -vx1 if vx1 < 0 else inf\n",
    "\n",
    "        dv = vx2 - vx1\n",
    "        t1 = (x2 - x1) / -dv if dv < 0 else inf\n",
    "\n",
    "        dt = min(t0, t1)\n",
    "\n",
    "        if dt == inf:\n",
    "            break\n",
    "\n",
    "        x1 += dt * vx1\n",
    "        x2 += dt * vx2\n",
    "        col += 1\n",
    "\n",
    "        if dt == t0:\n",
    "            x1 = 0\n",
    "            vx1 = -vx1\n",
    "        else:\n",
    "            x2 = x1\n",
    "            p = m1 * vx1 + m2 * vx2\n",
    "            vx1 = (p + m2 * dv) / m12\n",
    "            vx2 = (p - m1 * dv) / m12\n",
    "\n",
    "    # Store mass ratio and collision count\n",
    "    mass_ratios.append(d)\n",
    "    collision_counts.append(col)\n",
    "\n",
    "# Plot results\n",
    "plt.plot(mass_ratios, collision_counts, marker='o')\n",
    "plt.xlabel('Log10 of mass ratio')\n",
    "plt.ylabel('Number of collisions')\n",
    "plt.title('Number of collisions vs. Mass ratio')\n",
    "plt.grid(True)\n",
    "plt.show()\n"
   ]
  },
  {
   "cell_type": "markdown",
   "id": "4af82df3",
   "metadata": {},
   "source": [
    "The code below prints out the number of collisions for a mass ratio of 1: 2^6 in base 2 format."
   ]
  },
  {
   "cell_type": "code",
   "execution_count": 49,
   "id": "9b07873e",
   "metadata": {},
   "outputs": [
    {
     "name": "stdout",
     "output_type": "stream",
     "text": [
      "Number of collisions in base 2: 11001\n"
     ]
    }
   ],
   "source": [
    "m1, m2 = 1, 2**6\n",
    "m12 = m1 + m2\n",
    "x1, vx1 = 1, 0\n",
    "x2, vx2 = 1.15, -1\n",
    "\n",
    "col = 0\n",
    "inf = float('+inf')\n",
    "\n",
    "while True:\n",
    "    t0 = x1 / -vx1 if vx1 < 0 else inf\n",
    "\n",
    "    dv = vx2 - vx1\n",
    "    t1 = (x2 - x1) / -dv if dv < 0 else inf\n",
    "\n",
    "    dt = min(t0, t1)\n",
    "\n",
    "    if dt == inf:\n",
    "        break\n",
    "\n",
    "    x1 += dt * vx1\n",
    "    x2 += dt * vx2\n",
    "    col += 1\n",
    "\n",
    "    if dt == t0:\n",
    "        x1 = 0\n",
    "        vx1 = -vx1\n",
    "    else:\n",
    "        x2 = x1\n",
    "        p = m1 * vx1 + m2 * vx2\n",
    "        vx1 = (p + m2 * dv) / m12\n",
    "        vx2 = (p - m1 * dv) / m12\n",
    "\n",
    "# Convert the number of collisions to base 2\n",
    "col_binary = bin(col)[2:]\n",
    "\n",
    "print(\"Number of collisions in base 2: %s\" % col_binary)"
   ]
  },
  {
   "cell_type": "markdown",
   "id": "3aa16d73",
   "metadata": {},
   "source": [
    "The codes below replicate the code above but vary the mass ratio."
   ]
  },
  {
   "cell_type": "code",
   "execution_count": 50,
   "id": "13b1d52f",
   "metadata": {},
   "outputs": [
    {
     "name": "stdout",
     "output_type": "stream",
     "text": [
      "Number of collisions in base 2: 101\n"
     ]
    }
   ],
   "source": [
    "m1, m2 = 1, 2**1\n",
    "m12 = m1 + m2\n",
    "x1, vx1 = 1, 0\n",
    "x2, vx2 = 1.15, -1\n",
    "\n",
    "col = 0\n",
    "inf = float('+inf')\n",
    "\n",
    "while True:\n",
    "    t0 = x1 / -vx1 if vx1 < 0 else inf\n",
    "\n",
    "    dv = vx2 - vx1\n",
    "    t1 = (x2 - x1) / -dv if dv < 0 else inf\n",
    "\n",
    "    dt = min(t0, t1)\n",
    "\n",
    "    if dt == inf:\n",
    "        break\n",
    "\n",
    "    x1 += dt * vx1\n",
    "    x2 += dt * vx2\n",
    "    col += 1\n",
    "\n",
    "    if dt == t0:\n",
    "        x1 = 0\n",
    "        vx1 = -vx1\n",
    "    else:\n",
    "        x2 = x1\n",
    "        p = m1 * vx1 + m2 * vx2\n",
    "        vx1 = (p + m2 * dv) / m12\n",
    "        vx2 = (p - m1 * dv) / m12\n",
    "\n",
    "# Convert the number of collisions to base 2\n",
    "col_binary = bin(col)[2:]\n",
    "\n",
    "print(\"Number of collisions in base 2: %s\" % col_binary)"
   ]
  },
  {
   "cell_type": "code",
   "execution_count": 51,
   "id": "b8f83d80",
   "metadata": {},
   "outputs": [
    {
     "name": "stdout",
     "output_type": "stream",
     "text": [
      "Number of collisions in base 2: 110\n"
     ]
    }
   ],
   "source": [
    "m1, m2 = 1, 2**2\n",
    "m12 = m1 + m2\n",
    "x1, vx1 = 1, 0\n",
    "x2, vx2 = 1.15, -1\n",
    "\n",
    "col = 0\n",
    "inf = float('+inf')\n",
    "\n",
    "while True:\n",
    "    t0 = x1 / -vx1 if vx1 < 0 else inf\n",
    "\n",
    "    dv = vx2 - vx1\n",
    "    t1 = (x2 - x1) / -dv if dv < 0 else inf\n",
    "\n",
    "    dt = min(t0, t1)\n",
    "\n",
    "    if dt == inf:\n",
    "        break\n",
    "\n",
    "    x1 += dt * vx1\n",
    "    x2 += dt * vx2\n",
    "    col += 1\n",
    "\n",
    "    if dt == t0:\n",
    "        x1 = 0\n",
    "        vx1 = -vx1\n",
    "    else:\n",
    "        x2 = x1\n",
    "        p = m1 * vx1 + m2 * vx2\n",
    "        vx1 = (p + m2 * dv) / m12\n",
    "        vx2 = (p - m1 * dv) / m12\n",
    "\n",
    "# Convert the number of collisions to base 2\n",
    "col_binary = bin(col)[2:]\n",
    "\n",
    "print(\"Number of collisions in base 2: %s\" % col_binary)"
   ]
  },
  {
   "cell_type": "code",
   "execution_count": 52,
   "id": "d700cc06",
   "metadata": {},
   "outputs": [
    {
     "name": "stdout",
     "output_type": "stream",
     "text": [
      "Number of collisions in base 2: 1001\n"
     ]
    }
   ],
   "source": [
    "m1, m2 = 1, 2**3\n",
    "m12 = m1 + m2\n",
    "x1, vx1 = 1, 0\n",
    "x2, vx2 = 1.15, -1\n",
    "\n",
    "col = 0\n",
    "inf = float('+inf')\n",
    "\n",
    "while True:\n",
    "    t0 = x1 / -vx1 if vx1 < 0 else inf\n",
    "\n",
    "    dv = vx2 - vx1\n",
    "    t1 = (x2 - x1) / -dv if dv < 0 else inf\n",
    "\n",
    "    dt = min(t0, t1)\n",
    "\n",
    "    if dt == inf:\n",
    "        break\n",
    "\n",
    "    x1 += dt * vx1\n",
    "    x2 += dt * vx2\n",
    "    col += 1\n",
    "\n",
    "    if dt == t0:\n",
    "        x1 = 0\n",
    "        vx1 = -vx1\n",
    "    else:\n",
    "        x2 = x1\n",
    "        p = m1 * vx1 + m2 * vx2\n",
    "        vx1 = (p + m2 * dv) / m12\n",
    "        vx2 = (p - m1 * dv) / m12\n",
    "\n",
    "# Convert the number of collisions to base 2\n",
    "col_binary = bin(col)[2:]\n",
    "\n",
    "print(\"Number of collisions in base 2: %s\" % col_binary)"
   ]
  },
  {
   "cell_type": "code",
   "execution_count": 53,
   "id": "12238e4d",
   "metadata": {},
   "outputs": [
    {
     "name": "stdout",
     "output_type": "stream",
     "text": [
      "Number of collisions in base 2: 1100\n"
     ]
    }
   ],
   "source": [
    "m1, m2 = 1, 2**4\n",
    "m12 = m1 + m2\n",
    "x1, vx1 = 1, 0\n",
    "x2, vx2 = 1.15, -1\n",
    "\n",
    "col = 0\n",
    "inf = float('+inf')\n",
    "\n",
    "while True:\n",
    "    t0 = x1 / -vx1 if vx1 < 0 else inf\n",
    "\n",
    "    dv = vx2 - vx1\n",
    "    t1 = (x2 - x1) / -dv if dv < 0 else inf\n",
    "\n",
    "    dt = min(t0, t1)\n",
    "\n",
    "    if dt == inf:\n",
    "        break\n",
    "\n",
    "    x1 += dt * vx1\n",
    "    x2 += dt * vx2\n",
    "    col += 1\n",
    "\n",
    "    if dt == t0:\n",
    "        x1 = 0\n",
    "        vx1 = -vx1\n",
    "    else:\n",
    "        x2 = x1\n",
    "        p = m1 * vx1 + m2 * vx2\n",
    "        vx1 = (p + m2 * dv) / m12\n",
    "        vx2 = (p - m1 * dv) / m12\n",
    "\n",
    "# Convert the number of collisions to base 2\n",
    "col_binary = bin(col)[2:]\n",
    "\n",
    "print(\"Number of collisions in base 2: %s\" % col_binary)"
   ]
  },
  {
   "cell_type": "code",
   "execution_count": 54,
   "id": "e55450f3",
   "metadata": {},
   "outputs": [
    {
     "name": "stdout",
     "output_type": "stream",
     "text": [
      "Number of collisions in base 2: 10001\n"
     ]
    }
   ],
   "source": [
    "m1, m2 = 1, 2**5\n",
    "m12 = m1 + m2\n",
    "x1, vx1 = 1, 0\n",
    "x2, vx2 = 1.15, -1\n",
    "\n",
    "col = 0\n",
    "inf = float('+inf')\n",
    "\n",
    "while True:\n",
    "    t0 = x1 / -vx1 if vx1 < 0 else inf\n",
    "\n",
    "    dv = vx2 - vx1\n",
    "    t1 = (x2 - x1) / -dv if dv < 0 else inf\n",
    "\n",
    "    dt = min(t0, t1)\n",
    "\n",
    "    if dt == inf:\n",
    "        break\n",
    "\n",
    "    x1 += dt * vx1\n",
    "    x2 += dt * vx2\n",
    "    col += 1\n",
    "\n",
    "    if dt == t0:\n",
    "        x1 = 0\n",
    "        vx1 = -vx1\n",
    "    else:\n",
    "        x2 = x1\n",
    "        p = m1 * vx1 + m2 * vx2\n",
    "        vx1 = (p + m2 * dv) / m12\n",
    "        vx2 = (p - m1 * dv) / m12\n",
    "\n",
    "# Convert the number of collisions to base 2\n",
    "col_binary = bin(col)[2:]\n",
    "\n",
    "print(\"Number of collisions in base 2: %s\" % col_binary)"
   ]
  },
  {
   "cell_type": "markdown",
   "id": "b7616953",
   "metadata": {},
   "source": [
    "The codes below replicate the ones above but the base is changed to base $3$"
   ]
  },
  {
   "cell_type": "code",
   "execution_count": 55,
   "id": "6aec0b0b",
   "metadata": {},
   "outputs": [
    {
     "name": "stdout",
     "output_type": "stream",
     "text": [
      "Number of collisions in base 3: 01\n"
     ]
    }
   ],
   "source": [
    "m1, m2 = 1, 3**1\n",
    "m12 = m1 + m2\n",
    "x1, vx1 = 1, 0\n",
    "x2, vx2 = 1.15, -1\n",
    "\n",
    "col = 0\n",
    "inf = float('+inf')\n",
    "\n",
    "while True:\n",
    "    t0 = x1 / -vx1 if vx1 < 0 else inf\n",
    "\n",
    "    dv = vx2 - vx1\n",
    "    t1 = (x2 - x1) / -dv if dv < 0 else inf\n",
    "\n",
    "    dt = min(t0, t1)\n",
    "\n",
    "    if dt == inf:\n",
    "        break\n",
    "\n",
    "    x1 += dt * vx1\n",
    "    x2 += dt * vx2\n",
    "    col += 1\n",
    "\n",
    "    if dt == t0:\n",
    "        x1 = 0\n",
    "        vx1 = -vx1\n",
    "    else:\n",
    "        x2 = x1\n",
    "        p = m1 * vx1 + m2 * vx2\n",
    "        vx1 = (p + m2 * dv) / m12\n",
    "        vx2 = (p - m1 * dv) / m12\n",
    "\n",
    "# Convert the number of collisions to base 3\n",
    "col_binary = bin(col)[3:]\n",
    "\n",
    "print(\"Number of collisions in base 3: %s\" % col_binary)"
   ]
  },
  {
   "cell_type": "code",
   "execution_count": 56,
   "id": "58e68d83",
   "metadata": {},
   "outputs": [
    {
     "name": "stdout",
     "output_type": "stream",
     "text": [
      "Number of collisions in base 3: 001\n"
     ]
    }
   ],
   "source": [
    "m1, m2 = 1, 3**2\n",
    "m12 = m1 + m2\n",
    "x1, vx1 = 1, 0\n",
    "x2, vx2 = 1.15, -1\n",
    "\n",
    "col = 0\n",
    "inf = float('+inf')\n",
    "\n",
    "while True:\n",
    "    t0 = x1 / -vx1 if vx1 < 0 else inf\n",
    "\n",
    "    dv = vx2 - vx1\n",
    "    t1 = (x2 - x1) / -dv if dv < 0 else inf\n",
    "\n",
    "    dt = min(t0, t1)\n",
    "\n",
    "    if dt == inf:\n",
    "        break\n",
    "\n",
    "    x1 += dt * vx1\n",
    "    x2 += dt * vx2\n",
    "    col += 1\n",
    "\n",
    "    if dt == t0:\n",
    "        x1 = 0\n",
    "        vx1 = -vx1\n",
    "    else:\n",
    "        x2 = x1\n",
    "        p = m1 * vx1 + m2 * vx2\n",
    "        vx1 = (p + m2 * dv) / m12\n",
    "        vx2 = (p - m1 * dv) / m12\n",
    "\n",
    "# Convert the number of collisions to base 3\n",
    "col_binary = bin(col)[3:]\n",
    "\n",
    "print(\"Number of collisions in base 3: %s\" % col_binary)"
   ]
  },
  {
   "cell_type": "code",
   "execution_count": 58,
   "id": "ac745c35",
   "metadata": {},
   "outputs": [
    {
     "name": "stdout",
     "output_type": "stream",
     "text": [
      "Number of collisions in base 3: 0000\n"
     ]
    }
   ],
   "source": [
    "m1, m2 = 1, 3**3\n",
    "m12 = m1 + m2\n",
    "x1, vx1 = 1, 0\n",
    "x2, vx2 = 1.15, -1\n",
    "\n",
    "col = 0\n",
    "inf = float('+inf')\n",
    "\n",
    "while True:\n",
    "    t0 = x1 / -vx1 if vx1 < 0 else inf\n",
    "\n",
    "    dv = vx2 - vx1\n",
    "    t1 = (x2 - x1) / -dv if dv < 0 else inf\n",
    "\n",
    "    dt = min(t0, t1)\n",
    "\n",
    "    if dt == inf:\n",
    "        break\n",
    "\n",
    "    x1 += dt * vx1\n",
    "    x2 += dt * vx2\n",
    "    col += 1\n",
    "\n",
    "    if dt == t0:\n",
    "        x1 = 0\n",
    "        vx1 = -vx1\n",
    "    else:\n",
    "        x2 = x1\n",
    "        p = m1 * vx1 + m2 * vx2\n",
    "        vx1 = (p + m2 * dv) / m12\n",
    "        vx2 = (p - m1 * dv) / m12\n",
    "\n",
    "# Convert the number of collisions to base 3\n",
    "col_binary = bin(col)[3:]\n",
    "\n",
    "print(\"Number of collisions in base 3: %s\" % col_binary)"
   ]
  },
  {
   "cell_type": "code",
   "execution_count": 59,
   "id": "b683f46a",
   "metadata": {},
   "outputs": [
    {
     "name": "stdout",
     "output_type": "stream",
     "text": [
      "Number of collisions in base 3: 1100\n"
     ]
    }
   ],
   "source": [
    "m1, m2 = 1, 3**4\n",
    "m12 = m1 + m2\n",
    "x1, vx1 = 1, 0\n",
    "x2, vx2 = 1.15, -1\n",
    "\n",
    "col = 0\n",
    "inf = float('+inf')\n",
    "\n",
    "while True:\n",
    "    t0 = x1 / -vx1 if vx1 < 0 else inf\n",
    "\n",
    "    dv = vx2 - vx1\n",
    "    t1 = (x2 - x1) / -dv if dv < 0 else inf\n",
    "\n",
    "    dt = min(t0, t1)\n",
    "\n",
    "    if dt == inf:\n",
    "        break\n",
    "\n",
    "    x1 += dt * vx1\n",
    "    x2 += dt * vx2\n",
    "    col += 1\n",
    "\n",
    "    if dt == t0:\n",
    "        x1 = 0\n",
    "        vx1 = -vx1\n",
    "    else:\n",
    "        x2 = x1\n",
    "        p = m1 * vx1 + m2 * vx2\n",
    "        vx1 = (p + m2 * dv) / m12\n",
    "        vx2 = (p - m1 * dv) / m12\n",
    "\n",
    "# Convert the number of collisions to base 3\n",
    "col_binary = bin(col)[3:]\n",
    "\n",
    "print(\"Number of collisions in base 3: %s\" % col_binary)"
   ]
  },
  {
   "cell_type": "code",
   "execution_count": 60,
   "id": "dc5859d9",
   "metadata": {},
   "outputs": [
    {
     "name": "stdout",
     "output_type": "stream",
     "text": [
      "Number of collisions in base 3: 10001\n"
     ]
    }
   ],
   "source": [
    "m1, m2 = 1, 3**5\n",
    "m12 = m1 + m2\n",
    "x1, vx1 = 1, 0\n",
    "x2, vx2 = 1.15, -1\n",
    "\n",
    "col = 0\n",
    "inf = float('+inf')\n",
    "\n",
    "while True:\n",
    "    t0 = x1 / -vx1 if vx1 < 0 else inf\n",
    "\n",
    "    dv = vx2 - vx1\n",
    "    t1 = (x2 - x1) / -dv if dv < 0 else inf\n",
    "\n",
    "    dt = min(t0, t1)\n",
    "\n",
    "    if dt == inf:\n",
    "        break\n",
    "\n",
    "    x1 += dt * vx1\n",
    "    x2 += dt * vx2\n",
    "    col += 1\n",
    "\n",
    "    if dt == t0:\n",
    "        x1 = 0\n",
    "        vx1 = -vx1\n",
    "    else:\n",
    "        x2 = x1\n",
    "        p = m1 * vx1 + m2 * vx2\n",
    "        vx1 = (p + m2 * dv) / m12\n",
    "        vx2 = (p - m1 * dv) / m12\n",
    "\n",
    "# Convert the number of collisions to base 3\n",
    "col_binary = bin(col)[3:]\n",
    "\n",
    "print(\"Number of collisions in base 3: %s\" % col_binary)"
   ]
  },
  {
   "cell_type": "code",
   "execution_count": 61,
   "id": "50700b58",
   "metadata": {},
   "outputs": [
    {
     "name": "stdout",
     "output_type": "stream",
     "text": [
      "Number of collisions in base 3: 010100\n"
     ]
    }
   ],
   "source": [
    "m1, m2 = 1, 3**6\n",
    "m12 = m1 + m2\n",
    "x1, vx1 = 1, 0\n",
    "x2, vx2 = 1.15, -1\n",
    "\n",
    "col = 0\n",
    "inf = float('+inf')\n",
    "\n",
    "while True:\n",
    "    t0 = x1 / -vx1 if vx1 < 0 else inf\n",
    "\n",
    "    dv = vx2 - vx1\n",
    "    t1 = (x2 - x1) / -dv if dv < 0 else inf\n",
    "\n",
    "    dt = min(t0, t1)\n",
    "\n",
    "    if dt == inf:\n",
    "        break\n",
    "\n",
    "    x1 += dt * vx1\n",
    "    x2 += dt * vx2\n",
    "    col += 1\n",
    "\n",
    "    if dt == t0:\n",
    "        x1 = 0\n",
    "        vx1 = -vx1\n",
    "    else:\n",
    "        x2 = x1\n",
    "        p = m1 * vx1 + m2 * vx2\n",
    "        vx1 = (p + m2 * dv) / m12\n",
    "        vx2 = (p - m1 * dv) / m12\n",
    "\n",
    "# Convert the number of collisions to base 3\n",
    "col_binary = bin(col)[3:]\n",
    "\n",
    "print(\"Number of collisions in base 3: %s\" % col_binary)"
   ]
  },
  {
   "cell_type": "markdown",
   "id": "1c6ecf75",
   "metadata": {},
   "source": [
    "The code below simulates a closed system, where particles that transform in species C are removed from the system."
   ]
  },
  {
   "cell_type": "code",
   "execution_count": 64,
   "id": "458154c1",
   "metadata": {},
   "outputs": [],
   "source": [
    "class Particle:\n",
    "    def __init__(self, species):\n",
    "        self.species = species\n",
    "\n",
    "def collide(particles):\n",
    "    # Select two random particles\n",
    "    particle1 = random.choice(particles)\n",
    "    particle2 = random.choice(particles)\n",
    "    \n",
    "    # If the two particles are of different species and one is A and the other is B, remove them from the system\n",
    "    if particle1.species != particle2.species and 'A' in {particle1.species, particle2.species} and 'B' in {particle1.species, particle2.species}:\n",
    "        particles.remove(particle1)\n",
    "        particles.remove(particle2)\n",
    "    # If the two particles are of different species, they transform into the third species\n",
    "    elif particle1.species != particle2.species:\n",
    "        species_set = {'A', 'B', 'C'}\n",
    "        new_species = (species_set - {particle1.species, particle2.species}).pop()\n",
    "        particle1.species = new_species\n",
    "        particle2.species = new_species\n",
    "\n",
    "def count_species(particles):\n",
    "    species_count = {'A': 0, 'B': 0, 'C': 0}\n",
    "    for particle in particles:\n",
    "        species_count[particle.species] += 1\n",
    "    return species_count\n",
    "\n",
    "def simulate(num_A, num_B, num_C, num_steps):\n",
    "    particles = [Particle('A') for _ in range(num_A)] + \\\n",
    "                [Particle('B') for _ in range(num_B)] + \\\n",
    "                [Particle('C') for _ in range(num_C)]\n",
    "    \n",
    "    for step in range(num_steps):\n",
    "        collide(particles)\n",
    "        \n",
    "    species_counts = count_species(particles)\n",
    "    print(\"Final distribution of species after {} steps:\".format(num_steps))\n",
    "    for species, count in species_counts.items():\n",
    "        print(\"Species {}: {}\".format(species, count))"
   ]
  },
  {
   "cell_type": "code",
   "execution_count": 65,
   "id": "d328fbb9",
   "metadata": {},
   "outputs": [
    {
     "name": "stdout",
     "output_type": "stream",
     "text": [
      "Final distribution of species after 1000 steps:\n",
      "Species A: 0\n",
      "Species B: 6\n",
      "Species C: 0\n"
     ]
    }
   ],
   "source": [
    "#Running the simulation with 100 particles each and 10,00 collisions\n",
    "simulate(100, 100, 100, 1000)"
   ]
  },
  {
   "cell_type": "markdown",
   "id": "1702371d",
   "metadata": {},
   "source": [
    "The code below simulates a closed system, where particles that transform in species B are removed from the system."
   ]
  },
  {
   "cell_type": "code",
   "execution_count": 68,
   "id": "1fb34d0e",
   "metadata": {},
   "outputs": [],
   "source": [
    "class Particle:\n",
    "    def __init__(self, species):\n",
    "        self.species = species\n",
    "\n",
    "def collide(particles):\n",
    "    # Select two random particles\n",
    "    particle1 = random.choice(particles)\n",
    "    particle2 = random.choice(particles)\n",
    "    \n",
    "    # If the two particles are of different species and one is A and the other is B, remove them from the system\n",
    "    if particle1.species != particle2.species and 'A' in {particle1.species, particle2.species} and 'C' in {particle1.species, particle2.species}:\n",
    "        particles.remove(particle1)\n",
    "        particles.remove(particle2)\n",
    "    # If the two particles are of different species, they transform into the third species\n",
    "    elif particle1.species != particle2.species:\n",
    "        species_set = {'A', 'B', 'C'}\n",
    "        new_species = (species_set - {particle1.species, particle2.species}).pop()\n",
    "        particle1.species = new_species\n",
    "        particle2.species = new_species\n",
    "\n",
    "def count_species(particles):\n",
    "    species_count = {'A': 0, 'B': 0, 'C': 0}\n",
    "    for particle in particles:\n",
    "        species_count[particle.species] += 1\n",
    "    return species_count\n",
    "\n",
    "def simulate(num_A, num_B, num_C, num_steps):\n",
    "    particles = [Particle('A') for _ in range(num_A)] + \\\n",
    "                [Particle('B') for _ in range(num_B)] + \\\n",
    "                [Particle('C') for _ in range(num_C)]\n",
    "    \n",
    "    for step in range(num_steps):\n",
    "        collide(particles)\n",
    "        \n",
    "    species_counts = count_species(particles)\n",
    "    print(\"Final distribution of species after {} steps:\".format(num_steps))\n",
    "    for species, count in species_counts.items():\n",
    "        print(\"Species {}: {}\".format(species, count))"
   ]
  },
  {
   "cell_type": "code",
   "execution_count": 69,
   "id": "8ec48c4e",
   "metadata": {},
   "outputs": [
    {
     "name": "stdout",
     "output_type": "stream",
     "text": [
      "Final distribution of species after 1000 steps:\n",
      "Species A: 0\n",
      "Species B: 0\n",
      "Species C: 30\n"
     ]
    }
   ],
   "source": [
    "#Running the simulation with 100 particles each and 10,00 collisions\n",
    "simulate(100, 100, 100, 1000)"
   ]
  },
  {
   "cell_type": "markdown",
   "id": "a4ec7e98",
   "metadata": {},
   "source": [
    "The code below simulates a closed system, where particles that transform in species A are removed from the system."
   ]
  },
  {
   "cell_type": "code",
   "execution_count": 82,
   "id": "cc8e2b6e",
   "metadata": {},
   "outputs": [
    {
     "name": "stdout",
     "output_type": "stream",
     "text": [
      "Final distribution of species after 1000 steps:\n",
      "Species A: 0\n",
      "Species B: 0\n",
      "Species C: 12\n"
     ]
    }
   ],
   "source": [
    "class Particle:\n",
    "    def __init__(self, species):\n",
    "        self.species = species\n",
    "\n",
    "def collide(particles):\n",
    "    # Select two random particles\n",
    "    particle1 = random.choice(particles)\n",
    "    particle2 = random.choice(particles)\n",
    "    \n",
    "    # If the two particles are of different species and one is A and the other is B, remove them from the system\n",
    "    if particle1.species != particle2.species and 'B' in {particle1.species, particle2.species} and 'C' in {particle1.species, particle2.species}:\n",
    "        particles.remove(particle1)\n",
    "        particles.remove(particle2)\n",
    "    # If the two particles are of different species, they transform into the third species\n",
    "    elif particle1.species != particle2.species:\n",
    "        species_set = {'A', 'B', 'C'}\n",
    "        new_species = (species_set - {particle1.species, particle2.species}).pop()\n",
    "        particle1.species = new_species\n",
    "        particle2.species = new_species\n",
    "\n",
    "def count_species(particles):\n",
    "    species_count = {'A': 0, 'B': 0, 'C': 0}\n",
    "    for particle in particles:\n",
    "        species_count[particle.species] += 1\n",
    "    return species_count\n",
    "\n",
    "def simulate(num_A, num_B, num_C, num_steps):\n",
    "    particles = [Particle('A') for _ in range(num_A)] + \\\n",
    "                [Particle('B') for _ in range(num_B)] + \\\n",
    "                [Particle('C') for _ in range(num_C)]\n",
    "    \n",
    "    for step in range(num_steps):\n",
    "        collide(particles)\n",
    "        \n",
    "    species_counts = count_species(particles)\n",
    "    print(\"Final distribution of species after {} steps:\".format(num_steps))\n",
    "    for species, count in species_counts.items():\n",
    "        print(\"Species {}: {}\".format(species, count))\n",
    "\n",
    "#Running the simulation with 100 particles each and 10,00 collisions\n",
    "simulate(100, 100, 100, 1000)"
   ]
  },
  {
   "cell_type": "markdown",
   "id": "d4fff780",
   "metadata": {},
   "source": [
    "The code below varies the initial distribution of 'undesired' species"
   ]
  },
  {
   "cell_type": "code",
   "execution_count": 83,
   "id": "f4be32a4",
   "metadata": {},
   "outputs": [
    {
     "name": "stdout",
     "output_type": "stream",
     "text": [
      "Final distribution of species after 1000 steps:\n",
      "Species A: 0\n",
      "Species B: 0\n",
      "Species C: 16\n"
     ]
    }
   ],
   "source": [
    "class Particle:\n",
    "    def __init__(self, species):\n",
    "        self.species = species\n",
    "\n",
    "def collide(particles):\n",
    "    # Select two random particles\n",
    "    particle1 = random.choice(particles)\n",
    "    particle2 = random.choice(particles)\n",
    "    \n",
    "    # If the two particles are of different species and one is A and the other is B, remove them from the system\n",
    "    if particle1.species != particle2.species and 'B' in {particle1.species, particle2.species} and 'C' in {particle1.species, particle2.species}:\n",
    "        particles.remove(particle1)\n",
    "        particles.remove(particle2)\n",
    "    # If the two particles are of different species, they transform into the third species\n",
    "    elif particle1.species != particle2.species:\n",
    "        species_set = {'A', 'B', 'C'}\n",
    "        new_species = (species_set - {particle1.species, particle2.species}).pop()\n",
    "        particle1.species = new_species\n",
    "        particle2.species = new_species\n",
    "\n",
    "def count_species(particles):\n",
    "    species_count = {'A': 0, 'B': 0, 'C': 0}\n",
    "    for particle in particles:\n",
    "        species_count[particle.species] += 1\n",
    "    return species_count\n",
    "\n",
    "def simulate(num_A, num_B, num_C, num_steps):\n",
    "    particles = [Particle('A') for _ in range(num_A)] + \\\n",
    "                [Particle('B') for _ in range(num_B)] + \\\n",
    "                [Particle('C') for _ in range(num_C)]\n",
    "    \n",
    "    for step in range(num_steps):\n",
    "        collide(particles)\n",
    "        \n",
    "    species_counts = count_species(particles)\n",
    "    print(\"Final distribution of species after {} steps:\".format(num_steps))\n",
    "    for species, count in species_counts.items():\n",
    "        print(\"Species {}: {}\".format(species, count))\n",
    "\n",
    "#Running the simulation with 100 particles each and 10,00 collisions\n",
    "simulate(100, 100, 50, 1000)"
   ]
  },
  {
   "cell_type": "markdown",
   "id": "e9f7c252",
   "metadata": {},
   "source": [
    "Running the simulation code above $10,000$ times and plotting the results"
   ]
  },
  {
   "cell_type": "code",
   "execution_count": 84,
   "id": "080a00c6",
   "metadata": {},
   "outputs": [
    {
     "data": {
      "image/png": "[encoded data removed]",
      "text/plain": [
       "<Figure size 640x480 with 1 Axes>"
      ]
     },
     "metadata": {},
     "output_type": "display_data"
    }
   ],
   "source": [
    "class Particle:\n",
    "    def __init__(self, species):\n",
    "        self.species = species\n",
    "\n",
    "def collide(particles):\n",
    "    # Select two random particles\n",
    "    particle1 = random.choice(particles)\n",
    "    particle2 = random.choice(particles)\n",
    "    \n",
    "    # If the two particles are of different species and one is A and the other is B, remove them from the system\n",
    "    if particle1.species != particle2.species and 'B' in {particle1.species, particle2.species} and 'C' in {particle1.species, particle2.species}:\n",
    "        particles.remove(particle1)\n",
    "        particles.remove(particle2)\n",
    "    # If the two particles are of different species, they transform into the third species\n",
    "    elif particle1.species != particle2.species:\n",
    "        species_set = {'A', 'B', 'C'}\n",
    "        new_species = (species_set - {particle1.species, particle2.species}).pop()\n",
    "        particle1.species = new_species\n",
    "        particle2.species = new_species\n",
    "\n",
    "def count_species(particles):\n",
    "    species_count = {'A': 0, 'B': 0, 'C': 0}\n",
    "    for particle in particles:\n",
    "        species_count[particle.species] += 1\n",
    "    return species_count\n",
    "\n",
    "def simulate(num_A, num_B, num_C, num_steps):\n",
    "    results = {'A': 0, 'B': 0, 'C': 0}  # Store the results of each simulation run\n",
    "    \n",
    "    for _ in range(10000):\n",
    "        particles = [Particle('A') for _ in range(num_A)] + \\\n",
    "                    [Particle('B') for _ in range(num_B)] + \\\n",
    "                    [Particle('C') for _ in range(num_C)]\n",
    "        \n",
    "        for _ in range(num_steps):\n",
    "            collide(particles)\n",
    "            \n",
    "        species_counts = count_species(particles)\n",
    "        dominating_species = max(species_counts, key=species_counts.get)\n",
    "        results[dominating_species] += 1\n",
    "    \n",
    "    # Plotting the results\n",
    "    plt.bar(results.keys(), results.values())\n",
    "    plt.xlabel('Dominating Species')\n",
    "    plt.ylabel('Frequency')\n",
    "    plt.title('Frequency of Dominating Species in 10,000 Simulations')\n",
    "    plt.show()\n",
    "\n",
    "# Running the simulation with 100 particles each and 1000 steps\n",
    "simulate(100, 100, 50, 1000)\n"
   ]
  },
  {
   "cell_type": "markdown",
   "id": "cfeb946d",
   "metadata": {},
   "source": [
    "The code below prints out a table of the values of theta (in radians) compared to the ratio $\\frac{m_1}{m_2}$"
   ]
  },
  {
   "cell_type": "code",
   "execution_count": 87,
   "id": "b706e32c",
   "metadata": {},
   "outputs": [
    {
     "name": "stdout",
     "output_type": "stream",
     "text": [
      "Mass Ratio     Formula                                 Theta (radians)     \n",
      "10^1 : 1     arctan(sqrt(1)/sqrt(10^1))              0.306277369169669   \n",
      "10^2 : 1     arctan(sqrt(1)/sqrt(10^2))              0.099668652491162   \n",
      "10^3 : 1     arctan(sqrt(1)/sqrt(10^3))              0.031612241996191   \n",
      "10^4 : 1     arctan(sqrt(1)/sqrt(10^4))              0.009999666686665   \n",
      "10^5 : 1     arctan(sqrt(1)/sqrt(10^5))              0.003162267119306   \n",
      "10^6 : 1     arctan(sqrt(1)/sqrt(10^6))              0.000999999666667   \n",
      "10^7 : 1     arctan(sqrt(1)/sqrt(10^7))              0.000316227755476   \n",
      "10^8 : 1     arctan(sqrt(1)/sqrt(10^8))              0.000099999999667   \n",
      "10^9 : 1     arctan(sqrt(1)/sqrt(10^9))              0.000031622776591   \n",
      "10^10 : 1     arctan(sqrt(1)/sqrt(10^10))             0.000010000000000   \n",
      "10^11 : 1     arctan(sqrt(1)/sqrt(10^11))             0.000003162277660   \n",
      "10^12 : 1     arctan(sqrt(1)/sqrt(10^12))             0.000001000000000   \n",
      "10^13 : 1     arctan(sqrt(1)/sqrt(10^13))             0.000000316227766   \n",
      "10^14 : 1     arctan(sqrt(1)/sqrt(10^14))             0.000000100000000   \n",
      "10^15 : 1     arctan(sqrt(1)/sqrt(10^15))             0.000000031622777   \n",
      "10^16 : 1     arctan(sqrt(1)/sqrt(10^16))             0.000000010000000   \n",
      "10^17 : 1     arctan(sqrt(1)/sqrt(10^17))             0.000000003162278   \n",
      "10^18 : 1     arctan(sqrt(1)/sqrt(10^18))             0.000000001000000   \n",
      "10^19 : 1     arctan(sqrt(1)/sqrt(10^19))             0.000000000316228   \n"
     ]
    }
   ],
   "source": [
    "# Header for the table\n",
    "print(f\"{'Mass Ratio':<15}{'Formula':<40}{'Theta (radians)':<20}\")\n",
    "\n",
    "# Iterating through the values of d from 1 to 20\n",
    "for d in range(1, 20):\n",
    "    m1 = 10**d\n",
    "    m2 = 1\n",
    "    # Calculating theta\n",
    "    theta = np.arctan(np.sqrt(m2) / np.sqrt(m1))\n",
    "    # Printing each row\n",
    "    print(f\"10^{d} : 1{'':<5}{f'arctan(sqrt(1)/sqrt(10^{d}))':<40}{theta:<20.15f}\")\n"
   ]
  },
  {
   "cell_type": "code",
   "execution_count": null,
   "id": "8b835249",
   "metadata": {},
   "outputs": [],
   "source": []
  }
 ],
 "metadata": {
  "kernelspec": {
   "display_name": "Python 3 (ipykernel)",
   "language": "python",
   "name": "python3"
  },
  "language_info": {
   "codemirror_mode": {
    "name": "ipython",
    "version": 3
   },
   "file_extension": ".py",
   "mimetype": "text/x-python",
   "name": "python",
   "nbconvert_exporter": "python",
   "pygments_lexer": "ipython3",
   "version": "3.11.5"
  }
 },
 "nbformat": 4,
 "nbformat_minor": 5
}
